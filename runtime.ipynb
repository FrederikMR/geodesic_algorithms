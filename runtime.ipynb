{
 "cells": [
  {
   "cell_type": "markdown",
   "id": "22df500f",
   "metadata": {},
   "source": [
    "# Geodesic Runtime Comparison"
   ]
  },
  {
   "cell_type": "code",
   "execution_count": 63,
   "id": "f92b226b",
   "metadata": {},
   "outputs": [],
   "source": [
    "import pickle\n",
    "\n",
    "from tabulate import tabulate"
   ]
  },
  {
   "cell_type": "code",
   "execution_count": 64,
   "id": "9ea62db1",
   "metadata": {},
   "outputs": [],
   "source": [
    "path = '../timing/'\n",
    "manifold = \"Sphere\""
   ]
  },
  {
   "cell_type": "markdown",
   "id": "a070c316",
   "metadata": {},
   "source": [
    "## Printing Table Values"
   ]
  },
  {
   "cell_type": "code",
   "execution_count": 65,
   "id": "44f71d1d",
   "metadata": {},
   "outputs": [],
   "source": [
    "save_path = ''.join((path, manifold, '.pkl'))\n",
    "with open(save_path, 'rb') as f:\n",
    "    estimates = pickle.load(f)"
   ]
  },
  {
   "cell_type": "code",
   "execution_count": 66,
   "id": "3f4c0ab7",
   "metadata": {},
   "outputs": [],
   "source": [
    "dims = list(estimates.keys())\n",
    "\n",
    "mu_time = [estimates[key3][key2]['mu_time'] for key3,v3 in estimates.items() for key2,v2 in v3.items()]\n",
    "std_time = [estimates[key3][key2]['std_time'] for key3,v3 in estimates.items() for key2,v2 in v3.items()]\n",
    "length = [estimates[key3][key2]['length'] for key3,v3 in estimates.items()for key2,v2 in v3.items()]\n",
    "iter_num = [estimates[key3][key2]['iterations'] for key3,v3 in estimates.items() for key2,v2 in v3.items()]\n",
    "grad_norm = [estimates[key3][key2]['grad_norm'] for key3,v3 in estimates.items() for key2,v2 in v3.items()]\n",
    "max_iter = [estimates[key3][key2]['max_iter'] for key3,v3 in estimates.items() for key2,v2 in v3.items()]\n",
    "tol = [estimates[key3][key2]['tol'] for key3,v3 in estimates.items() for key2,v2 in v3.items()]\n",
    "method = [key2 for key3,v3 in estimates.items() for key2,v2 in v3.items()]\n",
    "\n",
    "N_methods = len(list(set(method)))\n",
    "dims = sum([[d]*N_methods for d in dims], [])"
   ]
  },
  {
   "cell_type": "code",
   "execution_count": 67,
   "id": "6b974704",
   "metadata": {},
   "outputs": [
    {
     "name": "stdout",
     "output_type": "stream",
     "text": [
      "  Dim  Method              Length    Iterations    grad_norm    mean time    std time    max_iter     tol\n",
      "-----  ----------------  --------  ------------  -----------  -----------  ----------  ----------  ------\n",
      "    2  gradient            2.3827     1000.0000       0.0079       7.5978      0.0976        1000  0.0001\n",
      "    2  init                2.3971                                                            1000  0.0001\n",
      "    2  ground_truth        2.3005                                                            1000  0.0001\n",
      "    2  geodesic_control    2.2971        9.0000       0.0001       0.0895      0.0024        1000  0.0001\n",
      "    2  adam                2.3002     1000.0000       0.0874       3.1400      0.0203        1000  0.0001\n"
     ]
    }
   ],
   "source": [
    "names = [r\"Dim\", r\"Method\", \n",
    "        r\"Length\", r\"Iterations\", r\"grad_norm\", r\"mean time\",\n",
    "        r\"std time\", r\"max_iter\", r\"tol\"]\n",
    "\n",
    "table_dict = {}\n",
    "table_dict['Dim'] = dims\n",
    "table_dict['Method'] = method\n",
    "table_dict['Length'] = length\n",
    "table_dict['Iterations'] = iter_num\n",
    "table_dict['grad_norm'] = grad_norm\n",
    "table_dict['mu_time'] = mu_time\n",
    "table_dict['std_time'] = std_time\n",
    "table_dict['max_iter'] = max_iter\n",
    "table_dict['tol'] = tol\n",
    "\n",
    "print(tabulate(table_dict, headers=names, floatfmt=\".4f\"))\n"
   ]
  },
  {
   "cell_type": "code",
   "execution_count": null,
   "id": "cba69806",
   "metadata": {},
   "outputs": [],
   "source": []
  },
  {
   "cell_type": "code",
   "execution_count": null,
   "id": "732dcbe1",
   "metadata": {},
   "outputs": [],
   "source": []
  }
 ],
 "metadata": {
  "kernelspec": {
   "display_name": "Python 3 (ipykernel)",
   "language": "python",
   "name": "python3"
  },
  "language_info": {
   "codemirror_mode": {
    "name": "ipython",
    "version": 3
   },
   "file_extension": ".py",
   "mimetype": "text/x-python",
   "name": "python",
   "nbconvert_exporter": "python",
   "pygments_lexer": "ipython3",
   "version": "3.9.13"
  }
 },
 "nbformat": 4,
 "nbformat_minor": 5
}
