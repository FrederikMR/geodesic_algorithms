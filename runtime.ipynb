{
 "cells": [
  {
   "cell_type": "markdown",
   "id": "22df500f",
   "metadata": {},
   "source": [
    "# Geodesic Runtime Comparison"
   ]
  },
  {
   "cell_type": "code",
   "execution_count": 108,
   "id": "f92b226b",
   "metadata": {},
   "outputs": [],
   "source": [
    "import pickle\n",
    "\n",
    "from tabulate import tabulate"
   ]
  },
  {
   "cell_type": "code",
   "execution_count": 111,
   "id": "9ea62db1",
   "metadata": {},
   "outputs": [],
   "source": [
    "path = 'timiming/'\n",
    "manifold = \"Paraboloid\""
   ]
  },
  {
   "cell_type": "markdown",
   "id": "a070c316",
   "metadata": {},
   "source": [
    "## Printing Table Values"
   ]
  },
  {
   "cell_type": "code",
   "execution_count": 112,
   "id": "44f71d1d",
   "metadata": {},
   "outputs": [],
   "source": [
    "save_path = ''.join((path, manifold, '.pkl'))\n",
    "with open(save_path, 'rb') as f:\n",
    "    estimates = pickle.load(f)"
   ]
  },
  {
   "cell_type": "code",
   "execution_count": 113,
   "id": "3f4c0ab7",
   "metadata": {},
   "outputs": [],
   "source": [
    "dims = list(estimates.keys())\n",
    "\n",
    "mu_time = [estimates[key3][key2]['mu_time'] for key3,v3 in estimates.items() for key2,v2 in v3.items()]\n",
    "std_time = [estimates[key3][key2]['std_time'] for key3,v3 in estimates.items() for key2,v2 in v3.items()]\n",
    "length = [estimates[key3][key2]['length'] for key3,v3 in estimates.items()for key2,v2 in v3.items()]\n",
    "iter_num = [estimates[key3][key2]['iterations'] for key3,v3 in estimates.items() for key2,v2 in v3.items()]\n",
    "grad_norm = [estimates[key3][key2]['grad_norm'] for key3,v3 in estimates.items() for key2,v2 in v3.items()]\n",
    "max_iter = [estimates[key3][key2]['max_iter'] for key3,v3 in estimates.items() for key2,v2 in v3.items()]\n",
    "tol = [estimates[key3][key2]['tol'] for key3,v3 in estimates.items() for key2,v2 in v3.items()]\n",
    "method = [key2 for key3,v3 in estimates.items() for key2,v2 in v3.items()]\n",
    "\n",
    "N_methods = len(list(set(method)))\n",
    "dims = sum([[d]*N_methods for d in dims], [])"
   ]
  },
  {
   "cell_type": "code",
   "execution_count": 114,
   "id": "6b974704",
   "metadata": {},
   "outputs": [
    {
     "name": "stdout",
     "output_type": "stream",
     "text": [
      "  Dim  Method              Length    Iterations    grad_norm    mean time    std time    max_iter     tol\n",
      "-----  ----------------  --------  ------------  -----------  -----------  ----------  ----------  ------\n",
      "    2  gradient            3.4849     1000.0000       0.0466      29.9518      0.4224        1000  0.0001\n",
      "    2  init                3.4841                                                            1000  0.0001\n",
      "    2  ground_truth                                                                          1000  0.0001\n",
      "    2  geodesic_control    2.9080       10.0000       0.0000       0.3760      0.0061        1000  0.0001\n",
      "    2  adam                2.9176     1000.0000       0.2378       5.3114      0.1841        1000  0.0001\n",
      "    2  sgd                 2.9176     1000.0000       0.2378       5.2795      0.1493        1000  0.0001\n",
      "    2  BFGS                2.9080      194.0000       0.0002    1414.7803     25.0600        1000  0.0001\n",
      "    3  gradient            3.4849     1000.0000       0.0466      30.7057      0.2754        1000  0.0001\n",
      "    3  init                3.4841                                                            1000  0.0001\n",
      "    3  ground_truth                                                                          1000  0.0001\n",
      "    3  geodesic_control    2.9080       10.0000       0.0000       0.3924      0.0064        1000  0.0001\n",
      "    3  adam                2.9176     1000.0000       0.2378       5.5147      0.0845        1000  0.0001\n",
      "    3  sgd                 2.9176     1000.0000       0.2378       5.5695      0.0494        1000  0.0001\n",
      "    3  BFGS                2.9080      194.0000       0.0002    1470.7694      1.7715        1000  0.0001\n",
      "    5  gradient            3.4849     1000.0000       0.0466      30.9160      0.2115        1000  0.0001\n",
      "    5  init                3.4841                                                            1000  0.0001\n",
      "    5  ground_truth                                                                          1000  0.0001\n",
      "    5  geodesic_control    2.9080       10.0000       0.0000       0.4089      0.0106        1000  0.0001\n",
      "    5  adam                2.9176     1000.0000       0.2378       5.5251      0.0558        1000  0.0001\n",
      "    5  sgd                 2.9176     1000.0000       0.2378       5.6019      0.1240        1000  0.0001\n",
      "    5  BFGS                2.9080      194.0000       0.0002    1380.4574     23.0645        1000  0.0001\n",
      "   10  gradient            3.4849     1000.0000       0.0466      29.6303      0.0673        1000  0.0001\n",
      "   10  init                3.4841                                                            1000  0.0001\n",
      "   10  ground_truth                                                                          1000  0.0001\n",
      "   10  geodesic_control    2.9080       10.0000       0.0000       0.3842      0.0072        1000  0.0001\n",
      "   10  adam                2.9176     1000.0000       0.2378       5.3737      0.0531        1000  0.0001\n",
      "   10  sgd                 2.9176     1000.0000       0.2378       5.4216      0.0618        1000  0.0001\n",
      "   10  BFGS                2.9080      194.0000       0.0002    1395.1449      7.6519        1000  0.0001\n",
      "   20  gradient            3.4849     1000.0000       0.0466      30.0765      0.6643        1000  0.0001\n",
      "   20  init                3.4841                                                            1000  0.0001\n",
      "   20  ground_truth                                                                          1000  0.0001\n",
      "   20  geodesic_control    2.9080       10.0000       0.0000       0.3810      0.0078        1000  0.0001\n",
      "   20  adam                2.9176     1000.0000       0.2378       5.3509      0.0460        1000  0.0001\n",
      "   20  sgd                 2.9176     1000.0000       0.2378       5.2740      0.0416        1000  0.0001\n",
      "   20  BFGS                2.9080      194.0000       0.0002    1349.2288     11.9175        1000  0.0001\n",
      "  100  gradient            3.4849     1000.0000       0.0466      31.2875      1.2434        1000  0.0001\n",
      "  100  init                3.4841                                                            1000  0.0001\n",
      "  100  ground_truth                                                                          1000  0.0001\n",
      "  100  geodesic_control    2.9080       10.0000       0.0000       0.3715      0.0149        1000  0.0001\n",
      "  100  adam                2.9176     1000.0000       0.2378       5.3627      0.1500        1000  0.0001\n",
      "  100  sgd                 2.9176     1000.0000       0.2378       5.2823      0.0984        1000  0.0001\n",
      "  100  BFGS                2.9080      194.0000       0.0002    1341.4569     11.5039        1000  0.0001\n"
     ]
    }
   ],
   "source": [
    "names = [r\"Dim\", r\"Method\", \n",
    "        r\"Length\", r\"Iterations\", r\"grad_norm\", r\"mean time\",\n",
    "        r\"std time\", r\"max_iter\", r\"tol\"]\n",
    "\n",
    "table_dict = {}\n",
    "table_dict['Dim'] = dims\n",
    "table_dict['Method'] = method\n",
    "table_dict['Length'] = length\n",
    "table_dict['Iterations'] = iter_num\n",
    "table_dict['grad_norm'] = grad_norm\n",
    "table_dict['mu_time'] = mu_time\n",
    "table_dict['std_time'] = std_time\n",
    "table_dict['max_iter'] = max_iter\n",
    "table_dict['tol'] = tol\n",
    "\n",
    "print(tabulate(table_dict, headers=names, floatfmt=\".4f\"))\n"
   ]
  },
  {
   "cell_type": "code",
   "execution_count": null,
   "id": "cba69806",
   "metadata": {},
   "outputs": [],
   "source": []
  },
  {
   "cell_type": "code",
   "execution_count": null,
   "id": "2744f95f",
   "metadata": {},
   "outputs": [],
   "source": []
  }
 ],
 "metadata": {
  "kernelspec": {
   "display_name": "Python 3 (ipykernel)",
   "language": "python",
   "name": "python3"
  },
  "language_info": {
   "codemirror_mode": {
    "name": "ipython",
    "version": 3
   },
   "file_extension": ".py",
   "mimetype": "text/x-python",
   "name": "python",
   "nbconvert_exporter": "python",
   "pygments_lexer": "ipython3",
   "version": "3.9.13"
  }
 },
 "nbformat": 4,
 "nbformat_minor": 5
}
