{
 "cells": [
  {
   "cell_type": "markdown",
   "id": "22df500f",
   "metadata": {},
   "source": [
    "# Geodesic Runtime Comparison"
   ]
  },
  {
   "cell_type": "code",
   "execution_count": 6,
   "id": "f92b226b",
   "metadata": {},
   "outputs": [],
   "source": [
    "import pickle\n",
    "\n",
    "from tabulate import tabulate"
   ]
  },
  {
   "cell_type": "code",
   "execution_count": 34,
   "id": "9ea62db1",
   "metadata": {},
   "outputs": [],
   "source": [
    "path = '../timing/'\n",
    "manifold = \"nSphere\""
   ]
  },
  {
   "cell_type": "markdown",
   "id": "a070c316",
   "metadata": {},
   "source": [
    "## Printing Table Values"
   ]
  },
  {
   "cell_type": "code",
   "execution_count": 35,
   "id": "44f71d1d",
   "metadata": {},
   "outputs": [],
   "source": [
    "save_path = ''.join((path, manifold, '.pkl'))\n",
    "with open(save_path, 'rb') as f:\n",
    "    estimates = pickle.load(f)"
   ]
  },
  {
   "cell_type": "code",
   "execution_count": 36,
   "id": "3f4c0ab7",
   "metadata": {},
   "outputs": [],
   "source": [
    "dims = list(estimates.keys())\n",
    "\n",
    "mu_time = [estimates[key4][key3][key2]['mu_time'] for key4,v4 in estimates.items() for key3,v3 in v4.items() for key2,v2 in v3.items()]\n",
    "std_time = [estimates[key4][key3][key2]['std_time'] for key4,v4 in estimates.items() for key3,v3 in v4.items() for key2,v2 in v3.items()]\n",
    "energy = [estimates[key4][key3][key2]['energy'] for key4,v4 in estimates.items() for key3,v3 in v4.items() for key2,v2 in v3.items()]\n",
    "max_iter = [estimates[key4][key3][key2]['Iter'] for key4,v4 in estimates.items() for key3,v3 in v4.items() for key2,v2 in v3.items()]\n",
    "method = [key2 for key4,v4 in estimates.items() for key3,v3 in v4.items() for key2,v2 in v3.items()]\n",
    "\n",
    "N_methods = len(list(set(method)))\n",
    "dims = sum([[d]*N_methods for d in dims], [])"
   ]
  },
  {
   "cell_type": "code",
   "execution_count": 37,
   "id": "6b974704",
   "metadata": {},
   "outputs": [
    {
     "name": "stdout",
     "output_type": "stream",
     "text": [
      "  Dim  Method         Energy    mean time    std time    max_iter\n",
      "-----  -----------  --------  -----------  ----------  ----------\n",
      "    2  Adam           2.3549       0.3014      0.0130   1000.0000\n",
      "    2  SGD          nan            0.2561      0.0078     14.0000\n",
      "    2  CG             0.2222       0.3396      0.0093      0.0000\n",
      "    2  BFGS           0.2222       0.3462      0.0165      0.0000\n",
      "    2  dogleg         0.2222       0.3203      0.0069      0.0000\n",
      "    2  trust-ncg      0.2222       0.3240      0.0127      0.0000\n",
      "    2  trust-exact    0.2222       0.3101      0.0056      0.0000\n",
      "    2  control        0.1926       1.0544      0.0344      8.0000\n",
      "    3  Adam           3.6684       0.3019      0.0041   1000.0000\n",
      "    3  SGD          nan            0.2637      0.0053    125.0000\n",
      "    3  CG             0.2854       0.4732      0.0189      0.0000\n",
      "    3  BFGS           0.2854       0.4715      0.0047      0.0000\n",
      "    3  dogleg         0.2854       0.4858      0.0251      0.0000\n",
      "    3  trust-ncg      0.2854       0.4581      0.0082      0.0000\n",
      "    3  trust-exact    0.2854       0.4656      0.0025      0.0000\n",
      "    3  control        0.2346       1.0179      0.0127      9.0000\n",
      "    5  Adam          14.2883       0.3511      0.0030   1000.0000\n",
      "    5  SGD          nan            0.2791      0.0066    125.0000\n",
      "    5  CG             0.3854       0.8064      0.0169      0.0000\n",
      "    5  BFGS           0.3854       0.8156      0.0275      0.0000\n",
      "    5  dogleg         0.3854       0.8252      0.0372      0.0000\n",
      "    5  trust-ncg      0.3854       1.0534      0.1171      0.0000\n",
      "    5  trust-exact    0.3854       1.2545      0.1074      0.0000\n",
      "    5  control        0.2886       1.3454      0.0652     11.0000\n",
      "   10  Adam         104.0708       0.8507      0.0467   1000.0000\n",
      "   10  SGD          nan            0.4342      0.0399    124.0000\n",
      "   10  CG             0.5715       2.1620      0.1538      0.0000\n",
      "   10  BFGS           0.5715       1.9965      0.0839      0.0000\n",
      "   10  dogleg         0.5715       2.2263      0.0661      0.0000\n",
      "   10  trust-ncg      0.5715       2.1819      0.0924      0.0000\n",
      "   10  trust-exact    0.5715       2.1739      0.0840      0.0000\n",
      "   10  control        0.3588       2.2285      0.7836     18.0000\n",
      "   20  Adam          12.1072       3.2617      0.0917   1000.0000\n",
      "   20  SGD          nan            0.7252      0.0206    125.0000\n",
      "   20  CG             0.8467       4.2171      0.0307      0.0000\n",
      "   20  BFGS           0.8467       4.2750      0.1385      0.0000\n",
      "   20  dogleg         0.8467       4.2503      0.0360      0.0000\n",
      "   20  trust-ncg      0.8467       4.2825      0.0364      0.0000\n",
      "   20  trust-exact    0.8467       4.1765      0.3588      0.0000\n",
      "   20  control        0.4216       2.9949      0.2710     35.0000\n"
     ]
    }
   ],
   "source": [
    "names = [r\"Dim\", r\"Method\", \n",
    "        r\"Energy\", r\"mean time\",\n",
    "        r\"std time\", r\"max_iter\"]\n",
    "\n",
    "table_dict = {}\n",
    "table_dict['Dim'] = dims\n",
    "table_dict['Method'] = method\n",
    "table_dict['energy'] = energy\n",
    "table_dict['mu_time'] = mu_time\n",
    "table_dict['std_time'] = std_time\n",
    "table_dict['max_iter'] = max_iter\n",
    "\n",
    "print(tabulate(table_dict, headers=names, floatfmt=\".4f\"))\n"
   ]
  },
  {
   "cell_type": "code",
   "execution_count": 11,
   "id": "b2404c99",
   "metadata": {},
   "outputs": [
    {
     "data": {
      "text/plain": [
       "Array(15.25, dtype=float32)"
      ]
     },
     "execution_count": 11,
     "metadata": {},
     "output_type": "execute_result"
    }
   ],
   "source": [
    "estimates['20']['Control']['control']['energy']"
   ]
  },
  {
   "cell_type": "code",
   "execution_count": null,
   "id": "cba69806",
   "metadata": {},
   "outputs": [],
   "source": []
  }
 ],
 "metadata": {
  "kernelspec": {
   "display_name": "Python 3 (ipykernel)",
   "language": "python",
   "name": "python3"
  },
  "language_info": {
   "codemirror_mode": {
    "name": "ipython",
    "version": 3
   },
   "file_extension": ".py",
   "mimetype": "text/x-python",
   "name": "python",
   "nbconvert_exporter": "python",
   "pygments_lexer": "ipython3",
   "version": "3.9.13"
  }
 },
 "nbformat": 4,
 "nbformat_minor": 5
}
