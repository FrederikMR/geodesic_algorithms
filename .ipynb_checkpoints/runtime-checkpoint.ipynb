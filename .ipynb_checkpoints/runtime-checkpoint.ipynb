{
 "cells": [
  {
   "cell_type": "markdown",
   "id": "22df500f",
   "metadata": {},
   "source": [
    "# Geodesic Runtime Comparison"
   ]
  },
  {
   "cell_type": "code",
   "execution_count": 33,
   "id": "f92b226b",
   "metadata": {},
   "outputs": [],
   "source": [
    "import pickle\n",
    "\n",
    "from tabulate import tabulate"
   ]
  },
  {
   "cell_type": "code",
   "execution_count": 34,
   "id": "9ea62db1",
   "metadata": {},
   "outputs": [],
   "source": [
    "path = '../timing/'\n",
    "manifold = \"Sphere\""
   ]
  },
  {
   "cell_type": "markdown",
   "id": "a070c316",
   "metadata": {},
   "source": [
    "## Printing Table Values"
   ]
  },
  {
   "cell_type": "code",
   "execution_count": 35,
   "id": "44f71d1d",
   "metadata": {},
   "outputs": [],
   "source": [
    "save_path = ''.join((path, manifold, '.pkl'))\n",
    "with open(save_path, 'rb') as f:\n",
    "    estimates = pickle.load(f)"
   ]
  },
  {
   "cell_type": "code",
   "execution_count": 46,
   "id": "3f4c0ab7",
   "metadata": {},
   "outputs": [],
   "source": [
    "dims = list(estimates.keys())\n",
    "\n",
    "mu_time = [estimates[key3][key2]['mu_time'] for key3,v3 in estimates.items() for key2,v2 in v3.items()]\n",
    "std_time = [estimates[key3][key2]['std_time'] for key3,v3 in estimates.items() for key2,v2 in v3.items()]\n",
    "length = [estimates[key3][key2]['length'] for key3,v3 in estimates.items()for key2,v2 in v3.items()]\n",
    "iter_num = [estimates[key3][key2]['iterations'] for key3,v3 in estimates.items() for key2,v2 in v3.items()]\n",
    "grad_norm = [estimates[key3][key2]['grad_norm'] for key3,v3 in estimates.items() for key2,v2 in v3.items()]\n",
    "max_iter = [estimates[key3][key2]['max_iter'] for key3,v3 in estimates.items() for key2,v2 in v3.items()]\n",
    "tol = [estimates[key3][key2]['tol'] for key3,v3 in estimates.items() for key2,v2 in v3.items()]\n",
    "method = [key2 for key3,v3 in estimates.items() for key2,v2 in v3.items()]\n",
    "\n",
    "N_methods = len(list(set(method)))\n",
    "dims = sum([[d]*N_methods for d in dims], [])"
   ]
  },
  {
   "cell_type": "code",
   "execution_count": 47,
   "id": "6b974704",
   "metadata": {},
   "outputs": [
    {
     "name": "stdout",
     "output_type": "stream",
     "text": [
      "  Dim  Method              Length    grad_norm    mean time    std time    Iterations    max_iter     tol\n",
      "-----  ----------------  --------  -----------  -----------  ----------  ------------  ----------  ------\n",
      "    2  gradient            2.3881       0.0876       0.8917      0.0031     1000.0000        1000  0.0001\n",
      "    2  init                                                                                  1000  0.0001\n",
      "    2  ground_truth                                                                          1000  0.0001\n",
      "    2  geodesic_control    2.2971       0.0001       1.0871      0.2020        9.0000        1000  0.0001\n",
      "    2  adam                2.2981       0.0321       0.3152      0.0225     1000.0000        1000  0.0001\n",
      "    2  BFGS                2.2971       0.0002      18.3260      1.3540      172.0000        1000  0.0001\n",
      "    3  gradient            2.3881       0.0876       1.0727      0.0292     1000.0000        1000  0.0001\n",
      "    3  init                                                                                  1000  0.0001\n",
      "    3  ground_truth                                                                          1000  0.0001\n",
      "    3  geodesic_control    2.2971       0.0001       1.3355      0.0784        9.0000        1000  0.0001\n",
      "    3  adam                2.2981       0.0321       0.4374      0.0266     1000.0000        1000  0.0001\n",
      "    3  BFGS                2.2971       0.0002      16.5211      1.0345      172.0000        1000  0.0001\n",
      "    5  gradient            2.3881       0.0876       0.9853      0.0561     1000.0000        1000  0.0001\n",
      "    5  init                                                                                  1000  0.0001\n",
      "    5  ground_truth                                                                          1000  0.0001\n",
      "    5  geodesic_control    2.2971       0.0001       1.2617      0.3132        9.0000        1000  0.0001\n",
      "    5  adam                2.2981       0.0321       0.3267      0.0150     1000.0000        1000  0.0001\n",
      "    5  BFGS                2.2971       0.0002      16.1755      0.7697      172.0000        1000  0.0001\n",
      "   10  gradient            2.3881       0.0876       0.9632      0.0204     1000.0000        1000  0.0001\n",
      "   10  init                                                                                  1000  0.0001\n",
      "   10  ground_truth                                                                          1000  0.0001\n",
      "   10  geodesic_control    2.2971       0.0001       0.9836      0.0135        9.0000        1000  0.0001\n",
      "   10  adam                2.2981       0.0321       0.4103      0.0517     1000.0000        1000  0.0001\n",
      "   10  BFGS                2.2971       0.0002      15.4116      0.4898      172.0000        1000  0.0001\n",
      "   20  gradient            2.3881       0.0876       1.0474      0.0980     1000.0000        1000  0.0001\n",
      "   20  init                                                                                  1000  0.0001\n",
      "   20  ground_truth                                                                          1000  0.0001\n",
      "   20  geodesic_control    2.2971       0.0001       1.0907      0.0331        9.0000        1000  0.0001\n",
      "   20  adam                2.2981       0.0321       0.3405      0.0081     1000.0000        1000  0.0001\n",
      "   20  BFGS                2.2971       0.0002      15.5918      0.4472      172.0000        1000  0.0001\n"
     ]
    }
   ],
   "source": [
    "names = [r\"Dim\", r\"Method\", \n",
    "        r\"Length\", r\"Iterations\", r\"grad_norm\", r\"mean time\",\n",
    "        r\"std time\", r\"max_iter\", r\"tol\"]\n",
    "\n",
    "table_dict = {}\n",
    "table_dict['Dim'] = dims\n",
    "table_dict['Method'] = method\n",
    "table_dict['Length'] = length\n",
    "table_dict['Iterations'] = iter_num\n",
    "table_dict['grad_norm'] = grad_norm\n",
    "table_dict['mu_time'] = mu_time\n",
    "table_dict['std_time'] = std_time\n",
    "table_dict['max_iter'] = max_iter\n",
    "table_dict['tol'] = tol\n",
    "\n",
    "print(tabulate(table_dict, headers=names, floatfmt=\".4f\"))\n"
   ]
  },
  {
   "cell_type": "code",
   "execution_count": 11,
   "id": "b2404c99",
   "metadata": {},
   "outputs": [
    {
     "data": {
      "text/plain": [
       "Array(15.25, dtype=float32)"
      ]
     },
     "execution_count": 11,
     "metadata": {},
     "output_type": "execute_result"
    }
   ],
   "source": [
    "estimates['20']['Control']['control']['energy']"
   ]
  },
  {
   "cell_type": "code",
   "execution_count": null,
   "id": "cba69806",
   "metadata": {},
   "outputs": [],
   "source": []
  }
 ],
 "metadata": {
  "kernelspec": {
   "display_name": "Python 3 (ipykernel)",
   "language": "python",
   "name": "python3"
  },
  "language_info": {
   "codemirror_mode": {
    "name": "ipython",
    "version": 3
   },
   "file_extension": ".py",
   "mimetype": "text/x-python",
   "name": "python",
   "nbconvert_exporter": "python",
   "pygments_lexer": "ipython3",
   "version": "3.9.13"
  }
 },
 "nbformat": 4,
 "nbformat_minor": 5
}
