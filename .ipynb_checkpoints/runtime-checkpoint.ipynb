{
 "cells": [
  {
   "cell_type": "markdown",
   "id": "22df500f",
   "metadata": {},
   "source": [
    "# Geodesic Runtime Comparison"
   ]
  },
  {
   "cell_type": "code",
   "execution_count": 80,
   "id": "f92b226b",
   "metadata": {},
   "outputs": [],
   "source": [
    "import jax.numpy as jnp\n",
    "\n",
    "import os\n",
    "\n",
    "import pickle\n",
    "\n",
    "import matplotlib.pyplot as plt\n",
    "import matplotlib as mpl\n",
    "from mpl_toolkits.mplot3d import Axes3D\n",
    "from mpl_toolkits.axes_grid1 import make_axes_locatable\n",
    "import matplotlib.ticker as tkr\n",
    "\n",
    "from tabulate import tabulate"
   ]
  },
  {
   "cell_type": "code",
   "execution_count": 81,
   "id": "d6f5ef25",
   "metadata": {},
   "outputs": [],
   "source": [
    "plt.rcParams.update({'font.size': 20})\n",
    "cbformat = tkr.ScalarFormatter()   # create the formatter\n",
    "cbformat.set_powerlimits((-2,2)) "
   ]
  },
  {
   "cell_type": "code",
   "execution_count": 82,
   "id": "9ea62db1",
   "metadata": {},
   "outputs": [],
   "source": [
    "path = 'timing/'\n",
    "manifold = \"Ellipsoid\"\n",
    "figure_path = '../figures/geodesic_runtime/'"
   ]
  },
  {
   "cell_type": "code",
   "execution_count": 83,
   "id": "48e947c2",
   "metadata": {},
   "outputs": [],
   "source": [
    "if not (os.path.exists(figure_path)):\n",
    "    os.makedirs(figure_path)"
   ]
  },
  {
   "cell_type": "markdown",
   "id": "a070c316",
   "metadata": {},
   "source": [
    "## Loading Values"
   ]
  },
  {
   "cell_type": "code",
   "execution_count": 84,
   "id": "f02e6ee2",
   "metadata": {},
   "outputs": [],
   "source": [
    "save_path = ''.join((path, manifold, '/'))"
   ]
  },
  {
   "cell_type": "code",
   "execution_count": 85,
   "id": "cbf2fb1f",
   "metadata": {},
   "outputs": [],
   "source": [
    "onlyfiles = [f for f in os.listdir(save_path) if os.path.isfile(os.path.join(save_path, f))]"
   ]
  },
  {
   "cell_type": "code",
   "execution_count": 86,
   "id": "44f71d1d",
   "metadata": {},
   "outputs": [],
   "source": [
    "estimates = {}\n",
    "for file in onlyfiles:\n",
    "    file_path = ''.join((save_path, file))\n",
    "    with open(file_path, 'rb') as f:\n",
    "        values = pickle.load(f)\n",
    "    dim = file.replace(manifold, '').replace('.pkl', '')\n",
    "    estimates[dim] = values"
   ]
  },
  {
   "cell_type": "markdown",
   "id": "befcfe10",
   "metadata": {},
   "source": [
    "## Table Comparison"
   ]
  },
  {
   "cell_type": "code",
   "execution_count": 87,
   "id": "6851686b",
   "metadata": {},
   "outputs": [],
   "source": [
    "dims = list(estimates.keys())\n",
    "\n",
    "mu_time = [estimates[key3][key2]['mu_time'] for key3,v3 in estimates.items() for key2,v2 in v3.items()]\n",
    "std_time = [estimates[key3][key2]['std_time'] for key3,v3 in estimates.items() for key2,v2 in v3.items()]\n",
    "length = [estimates[key3][key2]['length'] for key3,v3 in estimates.items()for key2,v2 in v3.items()]\n",
    "iter_num = [estimates[key3][key2]['iterations'] for key3,v3 in estimates.items() for key2,v2 in v3.items()]\n",
    "grad_norm = [estimates[key3][key2]['grad_norm'] for key3,v3 in estimates.items() for key2,v2 in v3.items()]\n",
    "max_iter = [estimates[key3][key2]['max_iter'] for key3,v3 in estimates.items() for key2,v2 in v3.items()]\n",
    "tol = [estimates[key3][key2]['tol'] for key3,v3 in estimates.items() for key2,v2 in v3.items()]\n",
    "method = [key2 for key3,v3 in estimates.items() for key2,v2 in v3.items()]\n",
    "\n",
    "N_methods = len(list(set(method)))\n",
    "dims = sum([[d]*N_methods for d in dims], [])"
   ]
  },
  {
   "cell_type": "code",
   "execution_count": 88,
   "id": "6b974704",
   "metadata": {},
   "outputs": [
    {
     "name": "stdout",
     "output_type": "stream",
     "text": [
      "  Dim  Method              Length    Iterations    grad_norm    mean time    std time    max_iter     tol\n",
      "-----  ----------------  --------  ------------  -----------  -----------  ----------  ----------  ------\n",
      "    2  GEORCE              1.9794       32.0000       0.0001       0.0102      0.0000        1000  0.0001\n",
      "    2  init                1.9594                                                            1000  0.0001\n",
      "    2  ground_truth        2.3005                                                            1000  0.0001\n",
      "    2  ADAM                1.9795     1000.0000       0.0487       0.1070      0.0008        1000  0.0001\n",
      "    2  SGD                 1.9823     1000.0000       0.0076       0.1035      0.0010        1000  0.0001\n",
      "    2  Gradient Descent    1.9824     1000.0000       0.0215       0.3533      0.0018        1000  0.0001\n",
      "    2  BFGS                1.9793      191.0000       0.0001      69.3009      1.1345        1000  0.0001\n"
     ]
    }
   ],
   "source": [
    "names = [r\"Dim\", r\"Method\", \n",
    "        r\"Length\", r\"Iterations\", r\"grad_norm\", r\"mean time\",\n",
    "        r\"std time\", r\"max_iter\", r\"tol\"]\n",
    "\n",
    "table_dict = {}\n",
    "table_dict['Dim'] = dims\n",
    "table_dict['Method'] = method\n",
    "table_dict['Length'] = length\n",
    "table_dict['Iterations'] = iter_num\n",
    "table_dict['grad_norm'] = grad_norm\n",
    "table_dict['mu_time'] = mu_time\n",
    "table_dict['std_time'] = std_time\n",
    "table_dict['max_iter'] = max_iter\n",
    "table_dict['tol'] = tol\n",
    "\n",
    "print(tabulate(table_dict, headers=names, floatfmt=\".4f\"))\n"
   ]
  },
  {
   "cell_type": "markdown",
   "id": "b82b0865",
   "metadata": {},
   "source": [
    "## Plotting Comparison"
   ]
  },
  {
   "cell_type": "code",
   "execution_count": 42,
   "id": "7f954d66",
   "metadata": {},
   "outputs": [],
   "source": [
    "methods = [list(estimates[k].keys()) for k,v in estimates.items()]"
   ]
  },
  {
   "cell_type": "code",
   "execution_count": 43,
   "id": "e1295e85",
   "metadata": {},
   "outputs": [
    {
     "ename": "ValueError",
     "evalue": "x and y must have same first dimension, but have shapes (6,) and (5,)",
     "output_type": "error",
     "traceback": [
      "\u001b[0;31m---------------------------------------------------------------------------\u001b[0m",
      "\u001b[0;31mValueError\u001b[0m                                Traceback (most recent call last)",
      "\u001b[0;32m/tmp/ipykernel_7241/3119103492.py\u001b[0m in \u001b[0;36m<module>\u001b[0;34m\u001b[0m\n\u001b[1;32m     14\u001b[0m             \u001b[0mstd_time\u001b[0m \u001b[0;34m=\u001b[0m \u001b[0;34m[\u001b[0m\u001b[0mx\u001b[0m \u001b[0;32mfor\u001b[0m \u001b[0m_\u001b[0m\u001b[0;34m,\u001b[0m \u001b[0mx\u001b[0m \u001b[0;32min\u001b[0m \u001b[0msorted\u001b[0m\u001b[0;34m(\u001b[0m\u001b[0mzip\u001b[0m\u001b[0;34m(\u001b[0m\u001b[0mdims\u001b[0m\u001b[0;34m,\u001b[0m \u001b[0mstd_time\u001b[0m\u001b[0;34m)\u001b[0m\u001b[0;34m)\u001b[0m\u001b[0;34m]\u001b[0m\u001b[0;34m\u001b[0m\u001b[0;34m\u001b[0m\u001b[0m\n\u001b[1;32m     15\u001b[0m             \u001b[0mmu_time\u001b[0m\u001b[0;34m,\u001b[0m \u001b[0mstd_time\u001b[0m\u001b[0;34m,\u001b[0m \u001b[0mdims\u001b[0m \u001b[0;34m=\u001b[0m \u001b[0mjnp\u001b[0m\u001b[0;34m.\u001b[0m\u001b[0mstack\u001b[0m\u001b[0;34m(\u001b[0m\u001b[0mmu_time\u001b[0m\u001b[0;34m)\u001b[0m\u001b[0;34m,\u001b[0m \u001b[0mjnp\u001b[0m\u001b[0;34m.\u001b[0m\u001b[0mstack\u001b[0m\u001b[0;34m(\u001b[0m\u001b[0mstd_time\u001b[0m\u001b[0;34m)\u001b[0m\u001b[0;34m,\u001b[0m \u001b[0mjnp\u001b[0m\u001b[0;34m.\u001b[0m\u001b[0mstack\u001b[0m\u001b[0;34m(\u001b[0m\u001b[0mdims\u001b[0m\u001b[0;34m)\u001b[0m\u001b[0;34m\u001b[0m\u001b[0;34m\u001b[0m\u001b[0m\n\u001b[0;32m---> 16\u001b[0;31m             \u001b[0max\u001b[0m\u001b[0;34m.\u001b[0m\u001b[0mplot\u001b[0m\u001b[0;34m(\u001b[0m\u001b[0mdims\u001b[0m\u001b[0;34m,\u001b[0m \u001b[0mmu_time\u001b[0m\u001b[0;34m,\u001b[0m \u001b[0;34m'-o'\u001b[0m\u001b[0;34m)\u001b[0m\u001b[0;34m\u001b[0m\u001b[0;34m\u001b[0m\u001b[0m\n\u001b[0m\u001b[1;32m     17\u001b[0m             ax.fill_between(\n\u001b[1;32m     18\u001b[0m                             \u001b[0mdims\u001b[0m\u001b[0;34m,\u001b[0m\u001b[0;34m\u001b[0m\u001b[0;34m\u001b[0m\u001b[0m\n",
      "\u001b[0;32m~/anaconda3/lib/python3.9/site-packages/matplotlib/axes/_axes.py\u001b[0m in \u001b[0;36mplot\u001b[0;34m(self, scalex, scaley, data, *args, **kwargs)\u001b[0m\n\u001b[1;32m   1630\u001b[0m         \"\"\"\n\u001b[1;32m   1631\u001b[0m         \u001b[0mkwargs\u001b[0m \u001b[0;34m=\u001b[0m \u001b[0mcbook\u001b[0m\u001b[0;34m.\u001b[0m\u001b[0mnormalize_kwargs\u001b[0m\u001b[0;34m(\u001b[0m\u001b[0mkwargs\u001b[0m\u001b[0;34m,\u001b[0m \u001b[0mmlines\u001b[0m\u001b[0;34m.\u001b[0m\u001b[0mLine2D\u001b[0m\u001b[0;34m)\u001b[0m\u001b[0;34m\u001b[0m\u001b[0;34m\u001b[0m\u001b[0m\n\u001b[0;32m-> 1632\u001b[0;31m         \u001b[0mlines\u001b[0m \u001b[0;34m=\u001b[0m \u001b[0;34m[\u001b[0m\u001b[0;34m*\u001b[0m\u001b[0mself\u001b[0m\u001b[0;34m.\u001b[0m\u001b[0m_get_lines\u001b[0m\u001b[0;34m(\u001b[0m\u001b[0;34m*\u001b[0m\u001b[0margs\u001b[0m\u001b[0;34m,\u001b[0m \u001b[0mdata\u001b[0m\u001b[0;34m=\u001b[0m\u001b[0mdata\u001b[0m\u001b[0;34m,\u001b[0m \u001b[0;34m**\u001b[0m\u001b[0mkwargs\u001b[0m\u001b[0;34m)\u001b[0m\u001b[0;34m]\u001b[0m\u001b[0;34m\u001b[0m\u001b[0;34m\u001b[0m\u001b[0m\n\u001b[0m\u001b[1;32m   1633\u001b[0m         \u001b[0;32mfor\u001b[0m \u001b[0mline\u001b[0m \u001b[0;32min\u001b[0m \u001b[0mlines\u001b[0m\u001b[0;34m:\u001b[0m\u001b[0;34m\u001b[0m\u001b[0;34m\u001b[0m\u001b[0m\n\u001b[1;32m   1634\u001b[0m             \u001b[0mself\u001b[0m\u001b[0;34m.\u001b[0m\u001b[0madd_line\u001b[0m\u001b[0;34m(\u001b[0m\u001b[0mline\u001b[0m\u001b[0;34m)\u001b[0m\u001b[0;34m\u001b[0m\u001b[0;34m\u001b[0m\u001b[0m\n",
      "\u001b[0;32m~/anaconda3/lib/python3.9/site-packages/matplotlib/axes/_base.py\u001b[0m in \u001b[0;36m__call__\u001b[0;34m(self, data, *args, **kwargs)\u001b[0m\n\u001b[1;32m    310\u001b[0m                 \u001b[0mthis\u001b[0m \u001b[0;34m+=\u001b[0m \u001b[0margs\u001b[0m\u001b[0;34m[\u001b[0m\u001b[0;36m0\u001b[0m\u001b[0;34m]\u001b[0m\u001b[0;34m,\u001b[0m\u001b[0;34m\u001b[0m\u001b[0;34m\u001b[0m\u001b[0m\n\u001b[1;32m    311\u001b[0m                 \u001b[0margs\u001b[0m \u001b[0;34m=\u001b[0m \u001b[0margs\u001b[0m\u001b[0;34m[\u001b[0m\u001b[0;36m1\u001b[0m\u001b[0;34m:\u001b[0m\u001b[0;34m]\u001b[0m\u001b[0;34m\u001b[0m\u001b[0;34m\u001b[0m\u001b[0m\n\u001b[0;32m--> 312\u001b[0;31m             \u001b[0;32myield\u001b[0m \u001b[0;32mfrom\u001b[0m \u001b[0mself\u001b[0m\u001b[0;34m.\u001b[0m\u001b[0m_plot_args\u001b[0m\u001b[0;34m(\u001b[0m\u001b[0mthis\u001b[0m\u001b[0;34m,\u001b[0m \u001b[0mkwargs\u001b[0m\u001b[0;34m)\u001b[0m\u001b[0;34m\u001b[0m\u001b[0;34m\u001b[0m\u001b[0m\n\u001b[0m\u001b[1;32m    313\u001b[0m \u001b[0;34m\u001b[0m\u001b[0m\n\u001b[1;32m    314\u001b[0m     \u001b[0;32mdef\u001b[0m \u001b[0mget_next_color\u001b[0m\u001b[0;34m(\u001b[0m\u001b[0mself\u001b[0m\u001b[0;34m)\u001b[0m\u001b[0;34m:\u001b[0m\u001b[0;34m\u001b[0m\u001b[0;34m\u001b[0m\u001b[0m\n",
      "\u001b[0;32m~/anaconda3/lib/python3.9/site-packages/matplotlib/axes/_base.py\u001b[0m in \u001b[0;36m_plot_args\u001b[0;34m(self, tup, kwargs, return_kwargs)\u001b[0m\n\u001b[1;32m    496\u001b[0m \u001b[0;34m\u001b[0m\u001b[0m\n\u001b[1;32m    497\u001b[0m         \u001b[0;32mif\u001b[0m \u001b[0mx\u001b[0m\u001b[0;34m.\u001b[0m\u001b[0mshape\u001b[0m\u001b[0;34m[\u001b[0m\u001b[0;36m0\u001b[0m\u001b[0;34m]\u001b[0m \u001b[0;34m!=\u001b[0m \u001b[0my\u001b[0m\u001b[0;34m.\u001b[0m\u001b[0mshape\u001b[0m\u001b[0;34m[\u001b[0m\u001b[0;36m0\u001b[0m\u001b[0;34m]\u001b[0m\u001b[0;34m:\u001b[0m\u001b[0;34m\u001b[0m\u001b[0;34m\u001b[0m\u001b[0m\n\u001b[0;32m--> 498\u001b[0;31m             raise ValueError(f\"x and y must have same first dimension, but \"\n\u001b[0m\u001b[1;32m    499\u001b[0m                              f\"have shapes {x.shape} and {y.shape}\")\n\u001b[1;32m    500\u001b[0m         \u001b[0;32mif\u001b[0m \u001b[0mx\u001b[0m\u001b[0;34m.\u001b[0m\u001b[0mndim\u001b[0m \u001b[0;34m>\u001b[0m \u001b[0;36m2\u001b[0m \u001b[0;32mor\u001b[0m \u001b[0my\u001b[0m\u001b[0;34m.\u001b[0m\u001b[0mndim\u001b[0m \u001b[0;34m>\u001b[0m \u001b[0;36m2\u001b[0m\u001b[0;34m:\u001b[0m\u001b[0;34m\u001b[0m\u001b[0;34m\u001b[0m\u001b[0m\n",
      "\u001b[0;31mValueError\u001b[0m: x and y must have same first dimension, but have shapes (6,) and (5,)"
     ]
    },
    {
     "data": {
      "image/png": "[encoded data removed]",
      "text/plain": [
       "<Figure size 2000x1000 with 1 Axes>"
      ]
     },
     "metadata": {},
     "output_type": "display_data"
    }
   ],
   "source": [
    "fig = plt.figure(figsize=(20,10))\n",
    "i_last = len(methods)-1\n",
    "\n",
    "ax = fig.add_subplot(121)\n",
    "for i in range(len(methods)):\n",
    "    n_dims = methods[i]\n",
    "    for m in n_dims:\n",
    "        if not (m==\"BFGS\" or m==\"ground_truth\" or m==\"init\"):\n",
    "            mu_time = [estimates[key3][key2]['mu_time'] for key3,v3 in estimates.items() for key2,v2 in v3.items() if key2==m]\n",
    "            std_time = [estimates[key3][key2]['std_time'] for key3,v3 in estimates.items() for key2,v2 in v3.items() if key2==m]\n",
    "            dims = [int(key3) for key3,v3 in estimates.items()]\n",
    "            dims.sort()\n",
    "            mu_time = [x for _, x in sorted(zip(dims, mu_time))]\n",
    "            std_time = [x for _, x in sorted(zip(dims, std_time))]\n",
    "            mu_time, std_time, dims = jnp.stack(mu_time), jnp.stack(std_time), jnp.stack(dims)\n",
    "            ax.plot(dims, mu_time, '-o')\n",
    "            ax.fill_between(\n",
    "                            dims,\n",
    "                            jnp.maximum(mu_time - 1.96 * std_time, \n",
    "                                        jnp.zeros_like(mu_time)),\n",
    "                            jnp.maximum(mu_time + 1.96 * std_time, \n",
    "                                        jnp.zeros_like(mu_time)),\n",
    "                            alpha=0.1,\n",
    "                        )\n",
    "ax.set_xlabel(f'Dimension')\n",
    "ax.set_ylabel(f'Time (s)')\n",
    "ax.grid(True)\n",
    "\n",
    "ax = fig.add_subplot(122)\n",
    "for i in range(len(methods)):\n",
    "    n_dims = methods[i]\n",
    "    for m in n_dims:\n",
    "        if not (m==\"BFGS\" or m==\"ground_truth\" or m==\"init\"):\n",
    "            mu_time = [estimates[key3][key2]['length'] for key3,v3 in estimates.items() for key2,v2 in v3.items() if key2==m]\n",
    "            dims = [int(key3) for key3,v3 in estimates.items()]\n",
    "            dims.sort()\n",
    "            mu_time = [x for _, x in sorted(zip(dims, mu_time))]\n",
    "            if i == i_last:\n",
    "                ax.plot(dims, mu_time, '-o', label=m)\n",
    "            else:\n",
    "                ax.plot(dims, mu_time, '-o')\n",
    "ax.set_xlabel(f'Dimension')\n",
    "ax.set_ylabel(f'Geodesic Length')\n",
    "ax.grid(True)\n",
    "\n",
    "lines_labels = [ax.get_legend_handles_labels() for ax in fig.axes]\n",
    "lines, labels = [sum(lol, []) for lol in zip(*lines_labels)]\n",
    "fig.legend(lines, labels, loc=(0.25,0.2), ncol=5)\n",
    "\n",
    "plt.show()\n",
    "\n",
    "save_path = f'{figure_path}{manifold}_runtime.pdf'\n",
    "fig.savefig(save_path, format='pdf', pad_inches=0.1, bbox_inches='tight')"
   ]
  },
  {
   "cell_type": "code",
   "execution_count": null,
   "id": "9b296b91",
   "metadata": {},
   "outputs": [],
   "source": []
  }
 ],
 "metadata": {
  "kernelspec": {
   "display_name": "Python 3 (ipykernel)",
   "language": "python",
   "name": "python3"
  },
  "language_info": {
   "codemirror_mode": {
    "name": "ipython",
    "version": 3
   },
   "file_extension": ".py",
   "mimetype": "text/x-python",
   "name": "python",
   "nbconvert_exporter": "python",
   "pygments_lexer": "ipython3",
   "version": "3.9.13"
  }
 },
 "nbformat": 4,
 "nbformat_minor": 5
}
